{
 "cells": [
  {
   "cell_type": "markdown",
   "metadata": {},
   "source": [
    "# Tarea3 Jupyter Notebook y Pandas \n",
    "### Gerhard Ardon - 202004796\n",
    "--- \n"
   ]
  },
  {
   "cell_type": "code",
   "execution_count": 4,
   "metadata": {},
   "outputs": [
    {
     "name": "stdout",
     "output_type": "stream",
     "text": [
      "   Nombre   Apellido   Edad        Carrera  Universidad\n",
      "0    Juan      Perez     20     Ingenieria         USAC\n",
      "1   Maria      Lopez     21       Medicina          URL\n",
      "2   Pedro    Ramirez     22        Derecho          URL\n",
      "3    Jose   Gonzalez     23   Arquitectura         USAC\n",
      "4     Ana      Silva     24     Ingenieria         USAC\n",
      "5  Carlos      Rojas     25       Medicina          URL\n"
     ]
    }
   ],
   "source": [
    "import pandas as pd\n",
    "\n",
    "# cargamos el csv\n",
    "data= pd.read_csv('data.csv')\n",
    "\n",
    "# creamos un DataFrame\n",
    "df = pd.DataFrame(data)\n",
    "print(df)\n"
   ]
  }
 ],
 "metadata": {
  "kernelspec": {
   "display_name": "Python 3",
   "language": "python",
   "name": "python3"
  },
  "language_info": {
   "codemirror_mode": {
    "name": "ipython",
    "version": 3
   },
   "file_extension": ".py",
   "mimetype": "text/x-python",
   "name": "python",
   "nbconvert_exporter": "python",
   "pygments_lexer": "ipython3",
   "version": "3.10.12"
  }
 },
 "nbformat": 4,
 "nbformat_minor": 2
}
